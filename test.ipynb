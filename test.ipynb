{
 "cells": [
  {
   "cell_type": "markdown",
   "id": "familiar-secondary",
   "metadata": {},
   "source": [
    "## Задача 1.\n",
    "### Построить распределение объектов по цене аренды (поле price). Вывести на заголовок графика: медианное значение, 25 и 75 квантили"
   ]
  },
  {
   "cell_type": "code",
   "execution_count": 1,
   "id": "expressed-office",
   "metadata": {},
   "outputs": [],
   "source": [
    "import pandas as pd\n",
    "import numpy as np\n",
    "import matplotlib.pyplot as plt\n",
    "from sklearn.neighbors import DistanceMetric\n",
    "from math import radians\n",
    "import seaborn as sns"
   ]
  },
  {
   "cell_type": "markdown",
   "id": "transparent-delhi",
   "metadata": {},
   "source": [
    "#### извлечение данных"
   ]
  },
  {
   "cell_type": "code",
   "execution_count": 2,
   "id": "vulnerable-wilson",
   "metadata": {},
   "outputs": [],
   "source": [
    "df = pd.read_csv(\"278houses.csv\", sep = ',')"
   ]
  },
  {
   "cell_type": "markdown",
   "id": "quiet-airline",
   "metadata": {},
   "source": [
    "#### преобразования типа данных, точнее изменили колонку price, а также переведем долготу и ширину в радианы."
   ]
  },
  {
   "cell_type": "code",
   "execution_count": 3,
   "id": "coordinate-scope",
   "metadata": {},
   "outputs": [],
   "source": [
    "df['price'] = df['price'].str.replace(\",\", \"\").astype('int32')\n",
    "df['latitude'] = np.radians(df['latitude'])\n",
    "df['longitude'] = np.radians(df['longitude'])"
   ]
  },
  {
   "cell_type": "code",
   "execution_count": 4,
   "id": "typical-plaza",
   "metadata": {},
   "outputs": [
    {
     "data": {
      "text/plain": [
       "Unnamed: 0         int64\n",
       "region            object\n",
       "id                 int64\n",
       "link              object\n",
       "price              int32\n",
       "price_units       object\n",
       "type              object\n",
       "area               int64\n",
       "area_units        object\n",
       "misc              object\n",
       "phone             object\n",
       "main_img_link     object\n",
       "desc_short        object\n",
       "title             object\n",
       "features          object\n",
       "price_feature     object\n",
       "address           object\n",
       "latitude         float64\n",
       "longitude        float64\n",
       "phone_int         object\n",
       "ref               object\n",
       "images            object\n",
       "dtype: object"
      ]
     },
     "execution_count": 4,
     "metadata": {},
     "output_type": "execute_result"
    }
   ],
   "source": [
    "df.dtypes"
   ]
  },
  {
   "cell_type": "markdown",
   "id": "clear-ceiling",
   "metadata": {},
   "source": [
    "#### гистограмма  цены"
   ]
  },
  {
   "cell_type": "code",
   "execution_count": 5,
   "id": "natural-technician",
   "metadata": {},
   "outputs": [
    {
     "data": {
      "text/plain": [
       "Text(0.5, 1.0, 'price')"
      ]
     },
     "execution_count": 5,
     "metadata": {},
     "output_type": "execute_result"
    },
    {
     "data": {
      "image/png": "[encoded data removed]",
      "text/plain": [
       "<Figure size 432x288 with 1 Axes>"
      ]
     },
     "metadata": {
      "needs_background": "light"
     },
     "output_type": "display_data"
    }
   ],
   "source": [
    "fig, axs = plt.subplots(1, 1)\n",
    "n_bins = len(df['price'])\n",
    "axs.hist(df['price'], bins=n_bins)\n",
    "axs.set_title('price')"
   ]
  },
  {
   "cell_type": "markdown",
   "id": "jewish-catholic",
   "metadata": {},
   "source": [
    "#### медианное значение"
   ]
  },
  {
   "cell_type": "code",
   "execution_count": 6,
   "id": "trying-award",
   "metadata": {},
   "outputs": [
    {
     "data": {
      "text/plain": [
       "950.0"
      ]
     },
     "execution_count": 6,
     "metadata": {},
     "output_type": "execute_result"
    }
   ],
   "source": [
    "median_price=df['price'].median()\n",
    "median_price"
   ]
  },
  {
   "cell_type": "markdown",
   "id": "strong-contamination",
   "metadata": {},
   "source": [
    "#### квантиль 25"
   ]
  },
  {
   "cell_type": "code",
   "execution_count": 7,
   "id": "distinct-albany",
   "metadata": {},
   "outputs": [
    {
     "data": {
      "text/plain": [
       "750.0"
      ]
     },
     "execution_count": 7,
     "metadata": {},
     "output_type": "execute_result"
    }
   ],
   "source": [
    "quantile_25=np.quantile(df['price'], 0.25)\n",
    "quantile_25"
   ]
  },
  {
   "cell_type": "markdown",
   "id": "sensitive-bermuda",
   "metadata": {},
   "source": [
    "#### квантиль 75"
   ]
  },
  {
   "cell_type": "code",
   "execution_count": 8,
   "id": "offshore-literacy",
   "metadata": {},
   "outputs": [
    {
     "data": {
      "text/plain": [
       "1300.0"
      ]
     },
     "execution_count": 8,
     "metadata": {},
     "output_type": "execute_result"
    }
   ],
   "source": [
    "quantile_75=np.quantile(df['price'], 0.75)\n",
    "quantile_75"
   ]
  },
  {
   "cell_type": "markdown",
   "id": "closing-collins",
   "metadata": {},
   "source": [
    "#### построили распределение объектов по цене аренды, отметив медианное значение, 25 и 75 квантили"
   ]
  },
  {
   "cell_type": "code",
   "execution_count": 9,
   "id": "insured-father",
   "metadata": {},
   "outputs": [
    {
     "data": {
      "image/png": "[encoded data removed]",
      "text/plain": [
       "<Figure size 432x288 with 1 Axes>"
      ]
     },
     "metadata": {
      "needs_background": "light"
     },
     "output_type": "display_data"
    }
   ],
   "source": [
    "snsplot = sns.kdeplot(df['price'], shade=True)\n",
    "fig = snsplot.get_figure()\n",
    "plt.vlines(x = median_price, ymin = 0, ymax = 0.00097, color = 'red', linewidth=2)\n",
    "plt.vlines(x = quantile_25, ymin = 0, ymax = 0.00108, color = 'limegreen', linewidth=2)\n",
    "plt.vlines(x = quantile_75, ymin = 0, ymax = 0.0005, color = 'green', linewidth=2)\n",
    "plt.legend(('плотность','медианное значение=', 'квантиль 25', 'квантиль 75'), loc=(1.04, 0.4))\n",
    "plt.show()"
   ]
  },
  {
   "cell_type": "markdown",
   "id": "driving-blame",
   "metadata": {},
   "source": [
    "## Задача 2.\n",
    "### Для объектов у которых значение цены лежит между 25 и 75 квантилем (см задача 1) построить распределение площади. Вывести на заголовок графика: медианное значение, 25 и 75 квантили"
   ]
  },
  {
   "cell_type": "markdown",
   "id": "worldwide-lloyd",
   "metadata": {},
   "source": [
    "#### создаем новую таблицу данных, которые входят те строки, в которых цены лежат между 25 и 75 квантилем"
   ]
  },
  {
   "cell_type": "code",
   "execution_count": 10,
   "id": "greenhouse-avenue",
   "metadata": {},
   "outputs": [],
   "source": [
    "df2=df[df['price'].between(quantile_25,quantile_75)]"
   ]
  },
  {
   "cell_type": "markdown",
   "id": "embedded-soccer",
   "metadata": {},
   "source": [
    "#### гисторграмма  площади"
   ]
  },
  {
   "cell_type": "code",
   "execution_count": 11,
   "id": "conditional-curve",
   "metadata": {},
   "outputs": [
    {
     "data": {
      "text/plain": [
       "Text(0.5, 1.0, 'area')"
      ]
     },
     "execution_count": 11,
     "metadata": {},
     "output_type": "execute_result"
    },
    {
     "data": {
      "image/png": "[encoded data removed]",
      "text/plain": [
       "<Figure size 432x288 with 1 Axes>"
      ]
     },
     "metadata": {
      "needs_background": "light"
     },
     "output_type": "display_data"
    }
   ],
   "source": [
    "fig, axs = plt.subplots(1, 1)\n",
    "n_bins = len(df2['area'])\n",
    "axs.hist(df2['area'], bins=n_bins)\n",
    "axs.set_title('area')"
   ]
  },
  {
   "cell_type": "markdown",
   "id": "verified-operation",
   "metadata": {},
   "source": [
    "#### медианное значение"
   ]
  },
  {
   "cell_type": "code",
   "execution_count": 12,
   "id": "domestic-familiar",
   "metadata": {},
   "outputs": [
    {
     "data": {
      "text/plain": [
       "100.0"
      ]
     },
     "execution_count": 12,
     "metadata": {},
     "output_type": "execute_result"
    }
   ],
   "source": [
    "median_area=df2['area'].median()\n",
    "median_area"
   ]
  },
  {
   "cell_type": "markdown",
   "id": "varied-unemployment",
   "metadata": {},
   "source": [
    "#### квантиль 25"
   ]
  },
  {
   "cell_type": "code",
   "execution_count": 13,
   "id": "historical-physics",
   "metadata": {},
   "outputs": [
    {
     "data": {
      "text/plain": [
       "88.25"
      ]
     },
     "execution_count": 13,
     "metadata": {},
     "output_type": "execute_result"
    }
   ],
   "source": [
    "quantile_25_area=np.quantile(df2['area'], 0.25)\n",
    "quantile_25_area"
   ]
  },
  {
   "cell_type": "markdown",
   "id": "ecological-engagement",
   "metadata": {},
   "source": [
    "#### квантиль 75"
   ]
  },
  {
   "cell_type": "code",
   "execution_count": 14,
   "id": "given-personality",
   "metadata": {},
   "outputs": [
    {
     "data": {
      "text/plain": [
       "122.25"
      ]
     },
     "execution_count": 14,
     "metadata": {},
     "output_type": "execute_result"
    }
   ],
   "source": [
    "quantile_75_area=np.quantile(df2['area'], 0.75)\n",
    "quantile_75_area"
   ]
  },
  {
   "cell_type": "markdown",
   "id": "enhanced-violin",
   "metadata": {},
   "source": [
    "#### построили распределение площади, цены которого лежат между 25 и 75 квантилем, отметив медианное значение, 25 и 75 квантили"
   ]
  },
  {
   "cell_type": "code",
   "execution_count": 15,
   "id": "sacred-killing",
   "metadata": {},
   "outputs": [
    {
     "data": {
      "image/png": "[encoded data removed]",
      "text/plain": [
       "<Figure size 432x288 with 1 Axes>"
      ]
     },
     "metadata": {
      "needs_background": "light"
     },
     "output_type": "display_data"
    }
   ],
   "source": [
    "snsplot = sns.kdeplot(df2['area'], shade=True)\n",
    "fig = snsplot.get_figure()\n",
    "plt.vlines(x = median_area, ymin = 0, ymax = 0.0133, color = 'red', linewidth=2)\n",
    "plt.vlines(x = quantile_25_area, ymin = 0, ymax = 0.013, color = 'limegreen', linewidth=2)\n",
    "plt.vlines(x = quantile_75_area, ymin = 0, ymax = 0.009, color = 'green', linewidth=2)\n",
    "plt.legend(('плотность','медианное значение', 'квантиль 25', 'квантиль 75'), loc=(1.04, 0.4))\n",
    "plt.show()"
   ]
  },
  {
   "cell_type": "markdown",
   "id": "dangerous-progressive",
   "metadata": {},
   "source": [
    "## Задача 3.\n",
    "### Для объектов у которых значение цены лежит между 25 и 75 квантилем (см задача 1) найти количество объектов в радиусе 1 км.\n",
    "### Построить распределение этого количества."
   ]
  },
  {
   "cell_type": "markdown",
   "id": "informed-applicant",
   "metadata": {},
   "source": [
    "#### создаем новую таблицу данных, в которых latitude и longitude не Nan, из df"
   ]
  },
  {
   "cell_type": "code",
   "execution_count": 16,
   "id": "casual-quantum",
   "metadata": {},
   "outputs": [
    {
     "data": {
      "text/html": [
       "<div>\n",
       "<style scoped>\n",
       "    .dataframe tbody tr th:only-of-type {\n",
       "        vertical-align: middle;\n",
       "    }\n",
       "\n",
       "    .dataframe tbody tr th {\n",
       "        vertical-align: top;\n",
       "    }\n",
       "\n",
       "    .dataframe thead th {\n",
       "        text-align: right;\n",
       "    }\n",
       "</style>\n",
       "<table border=\"1\" class=\"dataframe\">\n",
       "  <thead>\n",
       "    <tr style=\"text-align: right;\">\n",
       "      <th></th>\n",
       "      <th>id</th>\n",
       "      <th>latitude</th>\n",
       "      <th>longitude</th>\n",
       "    </tr>\n",
       "  </thead>\n",
       "  <tbody>\n",
       "    <tr>\n",
       "      <th>0</th>\n",
       "      <td>30137164</td>\n",
       "      <td>0.647269</td>\n",
       "      <td>-0.145138</td>\n",
       "    </tr>\n",
       "    <tr>\n",
       "      <th>1</th>\n",
       "      <td>30716892</td>\n",
       "      <td>0.647925</td>\n",
       "      <td>-0.149197</td>\n",
       "    </tr>\n",
       "    <tr>\n",
       "      <th>2</th>\n",
       "      <td>30713619</td>\n",
       "      <td>0.647431</td>\n",
       "      <td>-0.142544</td>\n",
       "    </tr>\n",
       "    <tr>\n",
       "      <th>3</th>\n",
       "      <td>30712975</td>\n",
       "      <td>0.647131</td>\n",
       "      <td>-0.141643</td>\n",
       "    </tr>\n",
       "    <tr>\n",
       "      <th>4</th>\n",
       "      <td>30716612</td>\n",
       "      <td>0.646143</td>\n",
       "      <td>-0.138526</td>\n",
       "    </tr>\n",
       "    <tr>\n",
       "      <th>...</th>\n",
       "      <td>...</td>\n",
       "      <td>...</td>\n",
       "      <td>...</td>\n",
       "    </tr>\n",
       "    <tr>\n",
       "      <th>274</th>\n",
       "      <td>44874</td>\n",
       "      <td>0.647496</td>\n",
       "      <td>-0.141777</td>\n",
       "    </tr>\n",
       "    <tr>\n",
       "      <th>275</th>\n",
       "      <td>30630457</td>\n",
       "      <td>0.648246</td>\n",
       "      <td>-0.149081</td>\n",
       "    </tr>\n",
       "    <tr>\n",
       "      <th>276</th>\n",
       "      <td>29453518</td>\n",
       "      <td>0.647348</td>\n",
       "      <td>-0.141641</td>\n",
       "    </tr>\n",
       "    <tr>\n",
       "      <th>277</th>\n",
       "      <td>30653775</td>\n",
       "      <td>0.647615</td>\n",
       "      <td>-0.151555</td>\n",
       "    </tr>\n",
       "    <tr>\n",
       "      <th>278</th>\n",
       "      <td>30582358</td>\n",
       "      <td>0.647623</td>\n",
       "      <td>-0.141777</td>\n",
       "    </tr>\n",
       "  </tbody>\n",
       "</table>\n",
       "<p>279 rows × 3 columns</p>\n",
       "</div>"
      ],
      "text/plain": [
       "           id  latitude  longitude\n",
       "0    30137164  0.647269  -0.145138\n",
       "1    30716892  0.647925  -0.149197\n",
       "2    30713619  0.647431  -0.142544\n",
       "3    30712975  0.647131  -0.141643\n",
       "4    30716612  0.646143  -0.138526\n",
       "..        ...       ...        ...\n",
       "274     44874  0.647496  -0.141777\n",
       "275  30630457  0.648246  -0.149081\n",
       "276  29453518  0.647348  -0.141641\n",
       "277  30653775  0.647615  -0.151555\n",
       "278  30582358  0.647623  -0.141777\n",
       "\n",
       "[279 rows x 3 columns]"
      ]
     },
     "execution_count": 16,
     "metadata": {},
     "output_type": "execute_result"
    }
   ],
   "source": [
    "df_for_count=df[['id','latitude','longitude']].dropna(subset=['latitude', 'longitude'])\n",
    "df_for_count"
   ]
  },
  {
   "cell_type": "markdown",
   "id": "fitting-winner",
   "metadata": {},
   "source": [
    "#### создаем новую таблицу данных, в которых latitude и longitude не Nan, из df2"
   ]
  },
  {
   "cell_type": "code",
   "execution_count": 17,
   "id": "canadian-porter",
   "metadata": {},
   "outputs": [
    {
     "data": {
      "text/html": [
       "<div>\n",
       "<style scoped>\n",
       "    .dataframe tbody tr th:only-of-type {\n",
       "        vertical-align: middle;\n",
       "    }\n",
       "\n",
       "    .dataframe tbody tr th {\n",
       "        vertical-align: top;\n",
       "    }\n",
       "\n",
       "    .dataframe thead th {\n",
       "        text-align: right;\n",
       "    }\n",
       "</style>\n",
       "<table border=\"1\" class=\"dataframe\">\n",
       "  <thead>\n",
       "    <tr style=\"text-align: right;\">\n",
       "      <th></th>\n",
       "      <th>id</th>\n",
       "      <th>price</th>\n",
       "      <th>latitude</th>\n",
       "      <th>longitude</th>\n",
       "    </tr>\n",
       "  </thead>\n",
       "  <tbody>\n",
       "    <tr>\n",
       "      <th>1</th>\n",
       "      <td>30716892</td>\n",
       "      <td>885</td>\n",
       "      <td>0.647925</td>\n",
       "      <td>-0.149197</td>\n",
       "    </tr>\n",
       "    <tr>\n",
       "      <th>3</th>\n",
       "      <td>30712975</td>\n",
       "      <td>1200</td>\n",
       "      <td>0.647131</td>\n",
       "      <td>-0.141643</td>\n",
       "    </tr>\n",
       "    <tr>\n",
       "      <th>7</th>\n",
       "      <td>30716366</td>\n",
       "      <td>1000</td>\n",
       "      <td>0.646552</td>\n",
       "      <td>-0.136722</td>\n",
       "    </tr>\n",
       "    <tr>\n",
       "      <th>12</th>\n",
       "      <td>30440888</td>\n",
       "      <td>850</td>\n",
       "      <td>0.648030</td>\n",
       "      <td>-0.149955</td>\n",
       "    </tr>\n",
       "    <tr>\n",
       "      <th>13</th>\n",
       "      <td>30402407</td>\n",
       "      <td>900</td>\n",
       "      <td>0.647904</td>\n",
       "      <td>-0.133563</td>\n",
       "    </tr>\n",
       "    <tr>\n",
       "      <th>...</th>\n",
       "      <td>...</td>\n",
       "      <td>...</td>\n",
       "      <td>...</td>\n",
       "      <td>...</td>\n",
       "    </tr>\n",
       "    <tr>\n",
       "      <th>273</th>\n",
       "      <td>30406112</td>\n",
       "      <td>750</td>\n",
       "      <td>0.648922</td>\n",
       "      <td>-0.130037</td>\n",
       "    </tr>\n",
       "    <tr>\n",
       "      <th>274</th>\n",
       "      <td>44874</td>\n",
       "      <td>950</td>\n",
       "      <td>0.647496</td>\n",
       "      <td>-0.141777</td>\n",
       "    </tr>\n",
       "    <tr>\n",
       "      <th>276</th>\n",
       "      <td>29453518</td>\n",
       "      <td>750</td>\n",
       "      <td>0.647348</td>\n",
       "      <td>-0.141641</td>\n",
       "    </tr>\n",
       "    <tr>\n",
       "      <th>277</th>\n",
       "      <td>30653775</td>\n",
       "      <td>1000</td>\n",
       "      <td>0.647615</td>\n",
       "      <td>-0.151555</td>\n",
       "    </tr>\n",
       "    <tr>\n",
       "      <th>278</th>\n",
       "      <td>30582358</td>\n",
       "      <td>1200</td>\n",
       "      <td>0.647623</td>\n",
       "      <td>-0.141777</td>\n",
       "    </tr>\n",
       "  </tbody>\n",
       "</table>\n",
       "<p>149 rows × 4 columns</p>\n",
       "</div>"
      ],
      "text/plain": [
       "           id  price  latitude  longitude\n",
       "1    30716892    885  0.647925  -0.149197\n",
       "3    30712975   1200  0.647131  -0.141643\n",
       "7    30716366   1000  0.646552  -0.136722\n",
       "12   30440888    850  0.648030  -0.149955\n",
       "13   30402407    900  0.647904  -0.133563\n",
       "..        ...    ...       ...        ...\n",
       "273  30406112    750  0.648922  -0.130037\n",
       "274     44874    950  0.647496  -0.141777\n",
       "276  29453518    750  0.647348  -0.141641\n",
       "277  30653775   1000  0.647615  -0.151555\n",
       "278  30582358   1200  0.647623  -0.141777\n",
       "\n",
       "[149 rows x 4 columns]"
      ]
     },
     "execution_count": 17,
     "metadata": {},
     "output_type": "execute_result"
    }
   ],
   "source": [
    "df2_for_count=df2[['id','price','latitude','longitude']].dropna(subset=['latitude', 'longitude'])\n",
    "df2_for_count"
   ]
  },
  {
   "cell_type": "markdown",
   "id": "universal-cabinet",
   "metadata": {},
   "source": [
    "#### подключаем метрику для вычисления геодезического расстояния"
   ]
  },
  {
   "cell_type": "code",
   "execution_count": 18,
   "id": "sharing-register",
   "metadata": {},
   "outputs": [],
   "source": [
    "dist = DistanceMetric.get_metric('haversine')"
   ]
  },
  {
   "cell_type": "markdown",
   "id": "substantial-narrative",
   "metadata": {},
   "source": [
    "#### вычисляем расстояния между объектами"
   ]
  },
  {
   "cell_type": "code",
   "execution_count": 19,
   "id": "spanish-reviewer",
   "metadata": {},
   "outputs": [],
   "source": [
    "np_dist=dist.pairwise(df2_for_count[['latitude','longitude']].to_numpy(),df_for_count[['latitude','longitude']].to_numpy() )*6373"
   ]
  },
  {
   "cell_type": "markdown",
   "id": "violent-distinction",
   "metadata": {},
   "source": [
    "#### считаем количество в радиусе 1 км"
   ]
  },
  {
   "cell_type": "code",
   "execution_count": 20,
   "id": "imported-reducing",
   "metadata": {},
   "outputs": [],
   "source": [
    "np_count=np.array([np.array(df2_for_count['id']),np.count_nonzero(np_dist <= 1,axis=1)-1]).T"
   ]
  },
  {
   "cell_type": "markdown",
   "id": "hundred-spank",
   "metadata": {},
   "source": [
    "#### из полученного массива данных np_count создаем новую таблицу"
   ]
  },
  {
   "cell_type": "code",
   "execution_count": 21,
   "id": "inside-rating",
   "metadata": {},
   "outputs": [],
   "source": [
    "df_count= pd.DataFrame(np_count,columns=['id','count'],index=df2_for_count.id.unique())"
   ]
  },
  {
   "cell_type": "markdown",
   "id": "informed-skill",
   "metadata": {},
   "source": [
    "#### нужно соединить таблицу df2_for_count с df_count"
   ]
  },
  {
   "cell_type": "code",
   "execution_count": 22,
   "id": "checked-dutch",
   "metadata": {},
   "outputs": [],
   "source": [
    "df_price_count=df2_for_count[['id','price']].join(df_count.set_index('id'), on='id')"
   ]
  },
  {
   "cell_type": "markdown",
   "id": "assisted-difference",
   "metadata": {},
   "source": [
    "#### в итоге, получили, что для каждого объекта, у которых значение цены лежат между 25 и 75 квантилем, была посчитана количество объектов в радиусе 1 км."
   ]
  },
  {
   "cell_type": "code",
   "execution_count": 23,
   "id": "animated-foundation",
   "metadata": {},
   "outputs": [
    {
     "data": {
      "text/html": [
       "<div>\n",
       "<style scoped>\n",
       "    .dataframe tbody tr th:only-of-type {\n",
       "        vertical-align: middle;\n",
       "    }\n",
       "\n",
       "    .dataframe tbody tr th {\n",
       "        vertical-align: top;\n",
       "    }\n",
       "\n",
       "    .dataframe thead th {\n",
       "        text-align: right;\n",
       "    }\n",
       "</style>\n",
       "<table border=\"1\" class=\"dataframe\">\n",
       "  <thead>\n",
       "    <tr style=\"text-align: right;\">\n",
       "      <th></th>\n",
       "      <th>id</th>\n",
       "      <th>price</th>\n",
       "      <th>count</th>\n",
       "    </tr>\n",
       "  </thead>\n",
       "  <tbody>\n",
       "    <tr>\n",
       "      <th>1</th>\n",
       "      <td>30716892</td>\n",
       "      <td>885</td>\n",
       "      <td>9</td>\n",
       "    </tr>\n",
       "    <tr>\n",
       "      <th>3</th>\n",
       "      <td>30712975</td>\n",
       "      <td>1200</td>\n",
       "      <td>19</td>\n",
       "    </tr>\n",
       "    <tr>\n",
       "      <th>7</th>\n",
       "      <td>30716366</td>\n",
       "      <td>1000</td>\n",
       "      <td>0</td>\n",
       "    </tr>\n",
       "    <tr>\n",
       "      <th>12</th>\n",
       "      <td>30440888</td>\n",
       "      <td>850</td>\n",
       "      <td>0</td>\n",
       "    </tr>\n",
       "    <tr>\n",
       "      <th>13</th>\n",
       "      <td>30402407</td>\n",
       "      <td>900</td>\n",
       "      <td>8</td>\n",
       "    </tr>\n",
       "    <tr>\n",
       "      <th>...</th>\n",
       "      <td>...</td>\n",
       "      <td>...</td>\n",
       "      <td>...</td>\n",
       "    </tr>\n",
       "    <tr>\n",
       "      <th>273</th>\n",
       "      <td>30406112</td>\n",
       "      <td>750</td>\n",
       "      <td>4</td>\n",
       "    </tr>\n",
       "    <tr>\n",
       "      <th>274</th>\n",
       "      <td>44874</td>\n",
       "      <td>950</td>\n",
       "      <td>11</td>\n",
       "    </tr>\n",
       "    <tr>\n",
       "      <th>276</th>\n",
       "      <td>29453518</td>\n",
       "      <td>750</td>\n",
       "      <td>18</td>\n",
       "    </tr>\n",
       "    <tr>\n",
       "      <th>277</th>\n",
       "      <td>30653775</td>\n",
       "      <td>1000</td>\n",
       "      <td>10</td>\n",
       "    </tr>\n",
       "    <tr>\n",
       "      <th>278</th>\n",
       "      <td>30582358</td>\n",
       "      <td>1200</td>\n",
       "      <td>7</td>\n",
       "    </tr>\n",
       "  </tbody>\n",
       "</table>\n",
       "<p>149 rows × 3 columns</p>\n",
       "</div>"
      ],
      "text/plain": [
       "           id  price  count\n",
       "1    30716892    885      9\n",
       "3    30712975   1200     19\n",
       "7    30716366   1000      0\n",
       "12   30440888    850      0\n",
       "13   30402407    900      8\n",
       "..        ...    ...    ...\n",
       "273  30406112    750      4\n",
       "274     44874    950     11\n",
       "276  29453518    750     18\n",
       "277  30653775   1000     10\n",
       "278  30582358   1200      7\n",
       "\n",
       "[149 rows x 3 columns]"
      ]
     },
     "execution_count": 23,
     "metadata": {},
     "output_type": "execute_result"
    }
   ],
   "source": [
    "df_price_count"
   ]
  },
  {
   "cell_type": "markdown",
   "id": "fixed-research",
   "metadata": {},
   "source": [
    "#### распределение количества объектов "
   ]
  },
  {
   "cell_type": "code",
   "execution_count": 24,
   "id": "apparent-decision",
   "metadata": {},
   "outputs": [
    {
     "data": {
      "image/png": "[encoded data removed]",
      "text/plain": [
       "<Figure size 432x288 with 1 Axes>"
      ]
     },
     "metadata": {
      "needs_background": "light"
     },
     "output_type": "display_data"
    }
   ],
   "source": [
    "snsplot = sns.kdeplot(df_price_count['count'], shade=True)\n",
    "fig = snsplot.get_figure()\n",
    "plt.show()"
   ]
  },
  {
   "cell_type": "code",
   "execution_count": null,
   "id": "hazardous-infrared",
   "metadata": {},
   "outputs": [],
   "source": []
  }
 ],
 "metadata": {
  "kernelspec": {
   "display_name": "Python 3",
   "language": "python",
   "name": "python3"
  },
  "language_info": {
   "codemirror_mode": {
    "name": "ipython",
    "version": 3
   },
   "file_extension": ".py",
   "mimetype": "text/x-python",
   "name": "python",
   "nbconvert_exporter": "python",
   "pygments_lexer": "ipython3",
   "version": "3.9.5"
  }
 },
 "nbformat": 4,
 "nbformat_minor": 5
}
